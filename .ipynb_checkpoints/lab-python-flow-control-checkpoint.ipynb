{
 "cells": [
  {
   "cell_type": "markdown",
   "id": "d3bfc191-8885-42ee-b0a0-bbab867c6f9f",
   "metadata": {
    "tags": []
   },
   "source": [
    "# Lab | Flow Control"
   ]
  },
  {
   "cell_type": "markdown",
   "id": "3851fcd1-cf98-4653-9c89-e003b7ec9400",
   "metadata": {},
   "source": [
    "## Exercise: Managing Customer Orders Optimized\n",
    "\n",
    "In the last lab, you were starting an online store that sells various products. To ensure smooth operations, you developed a program that manages customer orders and inventory.\n",
    "\n",
    "You did so without using flow control. Let's go a step further and improve this code.\n",
    "\n",
    "Follow the steps below to complete the exercise:\n",
    "\n",
    "1. Look at your code from the lab data structures, and improve repeated code with loops.\n",
    "\n",
    "2. Instead of asking the user to input the name of three products that a customer wants to order, do the following:\n",
    "    \n",
    "    a. Prompt the user to enter the name of a product that a customer wants to order.\n",
    "    \n",
    "    b. Add the product name to the \"customer_orders\" set.\n",
    "    \n",
    "    c. Ask the user if they want to add another product (yes/no).\n",
    "    \n",
    "    d. Continue the loop until the user does not want to add another product.\n",
    "\n",
    "3. Instead of updating the inventory by subtracting 1 from the quantity of each product, only do it for  the products that were ordered (those in \"customer_orders\")."
   ]
  },
  {
   "cell_type": "code",
   "execution_count": 8,
   "id": "d3acd660",
   "metadata": {},
   "outputs": [
    {
     "name": "stdout",
     "output_type": "stream",
     "text": [
      "How many t-shirt are availables: 5\n",
      "How many mug are availables: 5\n",
      "How many hat are availables: 5\n",
      "How many book are availables: 5\n",
      "How many keychain are availables: 5\n",
      "Write what you want from the list: KEYCHAIN\n",
      "Want to buy more? (y/n): Y\n",
      "Write what you want from the list: HAT\n",
      "Want to buy more? (y/n): N\n",
      "Your order: {'hat', 'keychain'}\n",
      "Updated inventory: {'t-shirt': 5, 'mug': 5, 'hat': 4, 'book': 5, 'keychain': 4}\n"
     ]
    }
   ],
   "source": [
    "products = [\"t-shirt\", \"mug\", \"hat\", \"book\", \"keychain\"]\n",
    "inventory = {}\n",
    "\n",
    "for i in products:\n",
    "    inventory[i] = int(input(f\"How many {i} are availables: \"))\n",
    "\n",
    "customer_orders = set()\n",
    "\n",
    "x = 0\n",
    "\n",
    "while x != 2 :\n",
    "        \n",
    "    if x == 0:\n",
    "        producto = input(\"Write what you want from the list: \").lower()\n",
    "        customer_orders.add(producto)\n",
    "        inventory[producto] -= 1\n",
    "        x += 1\n",
    "       \n",
    "    else:\n",
    "        pregunta = input(\"Want to buy more? (y/n): \").lower()\n",
    "        \n",
    "        if pregunta == \"y\":\n",
    "            producto = input(\"Write what you want from the list: \").lower()\n",
    "            customer_orders.add(producto)\n",
    "            inventory[producto] -= 1\n",
    "        elif pregunta == \"n\":\n",
    "            print(f\"Your order: {customer_orders}\")\n",
    "            print(f\"Updated inventory: {inventory}\")\n",
    "            break\n",
    "        else:\n",
    "            print(\"Please, enter y or n\")"
   ]
  }
 ],
 "metadata": {
  "kernelspec": {
   "display_name": "Python 3 (ipykernel)",
   "language": "python",
   "name": "python3"
  },
  "language_info": {
   "codemirror_mode": {
    "name": "ipython",
    "version": 3
   },
   "file_extension": ".py",
   "mimetype": "text/x-python",
   "name": "python",
   "nbconvert_exporter": "python",
   "pygments_lexer": "ipython3",
   "version": "3.11.5"
  }
 },
 "nbformat": 4,
 "nbformat_minor": 5
}
